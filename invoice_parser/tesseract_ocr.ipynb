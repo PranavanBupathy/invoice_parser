{
 "cells": [
  {
   "cell_type": "markdown",
   "metadata": {
    "id": "qWwQqG5YzD4e"
   },
   "source": [
    "Dependencies"
   ]
  },
  {
   "cell_type": "code",
   "execution_count": null,
   "metadata": {},
   "outputs": [],
   "source": [
    "%cd /home/ubuntu/invoice_parser"
   ]
  },
  {
   "cell_type": "code",
   "execution_count": 1,
   "metadata": {},
   "outputs": [
    {
     "ename": "ModuleNotFoundError",
     "evalue": "No module named 'pytesseract'",
     "output_type": "error",
     "traceback": [
      "\u001b[0;31m---------------------------------------------------------------------------\u001b[0m",
      "\u001b[0;31mModuleNotFoundError\u001b[0m                       Traceback (most recent call last)",
      "\u001b[0;32m/tmp/ipykernel_4469/3499070019.py\u001b[0m in \u001b[0;36m<module>\u001b[0;34m\u001b[0m\n\u001b[0;32m----> 1\u001b[0;31m \u001b[0;32mimport\u001b[0m \u001b[0mpytesseract\u001b[0m\u001b[0;34m\u001b[0m\u001b[0;34m\u001b[0m\u001b[0m\n\u001b[0m\u001b[1;32m      2\u001b[0m \u001b[0;32mfrom\u001b[0m \u001b[0mpytesseract\u001b[0m \u001b[0;32mimport\u001b[0m \u001b[0mOutput\u001b[0m\u001b[0;34m\u001b[0m\u001b[0;34m\u001b[0m\u001b[0m\n",
      "\u001b[0;31mModuleNotFoundError\u001b[0m: No module named 'pytesseract'"
     ]
    }
   ],
   "source": [
    "import pytesseract\n",
    "from pytesseract import Output"
   ]
  },
  {
   "cell_type": "code",
   "execution_count": 3,
   "metadata": {},
   "outputs": [
    {
     "name": "stdout",
     "output_type": "stream",
     "text": [
      "/bin/bash: /home/ubuntu/.local/bin/pip3: /home/ubuntu/environments/invoice_test/bin/python3: bad interpreter: No such file or directory\r\n"
     ]
    }
   ],
   "source": [
    "!pip3 install pytesseract"
   ]
  },
  {
   "cell_type": "code",
   "execution_count": null,
   "metadata": {},
   "outputs": [],
   "source": []
  },
  {
   "cell_type": "code",
   "execution_count": null,
   "metadata": {},
   "outputs": [],
   "source": []
  },
  {
   "cell_type": "code",
   "execution_count": null,
   "metadata": {},
   "outputs": [],
   "source": []
  },
  {
   "cell_type": "code",
   "execution_count": null,
   "metadata": {},
   "outputs": [],
   "source": []
  },
  {
   "cell_type": "code",
   "execution_count": null,
   "metadata": {},
   "outputs": [],
   "source": []
  },
  {
   "cell_type": "code",
   "execution_count": null,
   "metadata": {},
   "outputs": [],
   "source": []
  },
  {
   "cell_type": "code",
   "execution_count": null,
   "metadata": {},
   "outputs": [],
   "source": []
  },
  {
   "cell_type": "code",
   "execution_count": null,
   "metadata": {},
   "outputs": [],
   "source": []
  },
  {
   "cell_type": "code",
   "execution_count": null,
   "metadata": {},
   "outputs": [],
   "source": []
  },
  {
   "cell_type": "code",
   "execution_count": null,
   "metadata": {},
   "outputs": [],
   "source": []
  },
  {
   "cell_type": "code",
   "execution_count": null,
   "metadata": {},
   "outputs": [],
   "source": []
  },
  {
   "cell_type": "code",
   "execution_count": null,
   "metadata": {},
   "outputs": [],
   "source": []
  },
  {
   "cell_type": "code",
   "execution_count": null,
   "metadata": {
    "colab": {
     "base_uri": "https://localhost:8080/"
    },
    "id": "43oendKqeZDn",
    "outputId": "f0f27b37-9011-4eda-a419-4c670e6a3219"
   },
   "outputs": [],
   "source": [
    "!pip install pdf2image\n",
    "!git clone https://github.com/PaddlePaddle/PaddleOCR"
   ]
  },
  {
   "cell_type": "code",
   "execution_count": null,
   "metadata": {
    "colab": {
     "base_uri": "https://localhost:8080/"
    },
    "id": "LInSPr8HfAzb",
    "outputId": "a8e9d4f7-ec90-4a7a-9c7b-197b9b4da03e"
   },
   "outputs": [],
   "source": [
    "!sudo apt-get install poppler-utils\n",
    "!pip install paddleocr\n",
    "!python -m pip install paddlepaddle-gpu==2.0.0 -i https://mirror.baidu.com/pypi/simple\n",
    "!pip install paddlepaddle\n",
    "!pip install protobuf==3.19.0"
   ]
  },
  {
   "cell_type": "markdown",
   "metadata": {
    "id": "uHsPJqq0zi6n"
   },
   "source": [
    "image preprocessing"
   ]
  },
  {
   "cell_type": "code",
   "execution_count": null,
   "metadata": {
    "id": "IH_V046jfIYr"
   },
   "outputs": [],
   "source": [
    "from paddleocr import PaddleOCR,draw_ocr\n",
    "from matplotlib import pyplot as plt\n",
    "import cv2\n",
    "import os\n",
    "from google.colab.patches import cv2_imshow\n",
    "from pdf2image import convert_from_path\n",
    "from PIL import Image \n",
    "import PIL \n",
    "import os"
   ]
  },
  {
   "cell_type": "code",
   "execution_count": null,
   "metadata": {
    "id": "NCWKNU2N47p3"
   },
   "outputs": [],
   "source": [
    "# Directory\n",
    "directory = \"converted_pdf\"\n",
    "  \n",
    "# Parent Directory path\n",
    "parent_dir = \"/content\"\n",
    "path = os.path.join(parent_dir, directory)\n",
    "os.mkdir(path)\n",
    "new_dir = \"/content/converted_pdf\"\n",
    "\n",
    "dir = '/content/invoice'\n",
    "for index,filename in enumerate(os.listdir(dir)):\n",
    "    file_dir = str(dir)+\"/\"+filename\n",
    "    # Store Pdf with convert_from_path function\\\n",
    "    images = convert_from_path(file_dir) #dpi = 100\n",
    "    for i in range(len(images)):\n",
    "        # Save pages as images in the pdf\n",
    "        images[i].save(str(new_dir)+'/'+str(filename)+\"_image\"+str(i)+'.png', 'PNG')"
   ]
  },
  {
   "cell_type": "code",
   "execution_count": null,
   "metadata": {
    "id": "-6LjsEg35V4h"
   },
   "outputs": [],
   "source": [
    "# Renaming the file created\n",
    "temp_dir = '/content/converted_pdf'\n",
    "for i in os.listdir(temp_dir):\n",
    "    a = i.replace('.pdf','')\n",
    "    new_filename = str(temp_dir)+'/'+a\n",
    "    old_filename = str(temp_dir)+'/'+i\n",
    "    os.rename(old_filename,new_filename)"
   ]
  },
  {
   "cell_type": "markdown",
   "metadata": {
    "id": "FwDb2fT_9Riq"
   },
   "source": [
    "check the image orientation"
   ]
  },
  {
   "cell_type": "code",
   "execution_count": null,
   "metadata": {
    "id": "k-k74mi79aZv"
   },
   "outputs": [],
   "source": [
    "temp_dir = '/content/converted_pdf'"
   ]
  },
  {
   "cell_type": "code",
   "execution_count": null,
   "metadata": {
    "id": "DY87OtaZEC-M"
   },
   "outputs": [],
   "source": [
    "import numpy as np\n",
    "from PIL import Image, ImageEnhance"
   ]
  },
  {
   "cell_type": "code",
   "execution_count": null,
   "metadata": {
    "colab": {
     "base_uri": "https://localhost:8080/"
    },
    "id": "TseqywUa9f0U",
    "outputId": "ae915aed-08c4-4226-ea56-6b3f20fb2189"
   },
   "outputs": [],
   "source": [
    "for i in os.listdir(temp_dir):\n",
    "  t_dir = temp_dir+\"/\"+i\n",
    "  image = cv2.imread(t_dir)\n",
    "  # Convert the image to grayscale\n",
    "  gray = cv2.cvtColor(image, cv2.COLOR_BGR2GRAY)\n",
    "  # Use the Canny edge detection algorithm to detect edges in the image\n",
    "  edges = cv2.Canny(gray, 50, 150)\n",
    "  # Calculate the histograms of the edges in the x and y direction\n",
    "  histogram_x = cv2.reduce(edges, 0, cv2.REDUCE_AVG).reshape(-1)\n",
    "  histogram_y = cv2.reduce(edges, 1, cv2.REDUCE_AVG).reshape(-1)\n",
    "  # Calculate the standard deviation of the histograms\n",
    "  std_x = np.std(histogram_x)\n",
    "  std_y = np.std(histogram_y)\n",
    "  # If the standard deviation in the x direction is greater than the standard deviation in the y direction,\n",
    "  # the image is likely to be rotated\n",
    "  if std_x > std_y:\n",
    "      print(\"The image is rotated\")\n",
    "      im = Image.open(t_dir)\n",
    "      ima = im.rotate(270, expand=True)\n",
    "      #im.show()\n",
    "      ima.save(t_dir)\n",
    "  else:\n",
    "      print(\"The image is straight\") "
   ]
  },
  {
   "cell_type": "markdown",
   "metadata": {
    "id": "KSMt7WdSQJQg"
   },
   "source": [
    "ocr multiple images"
   ]
  },
  {
   "cell_type": "code",
   "execution_count": null,
   "metadata": {
    "colab": {
     "base_uri": "https://localhost:8080/"
    },
    "id": "9KUAp9wLQMVK",
    "outputId": "991e5163-9553-4289-bfc5-4993b7185839"
   },
   "outputs": [],
   "source": [
    "# Load the ocr model\n",
    "ocr = PaddleOCR(lang='en')"
   ]
  },
  {
   "cell_type": "code",
   "execution_count": null,
   "metadata": {
    "id": "277CfKdXQ7-F"
   },
   "outputs": [],
   "source": [
    "# Directory\n",
    "directory = \"OCR_out\"\n",
    "  \n",
    "# Parent Directory path\n",
    "parent_dir = \"/content\"\n",
    "path = os.path.join(parent_dir, directory)\n",
    "os.mkdir(path)\n",
    "new_dir = \"/content/OCR_out\""
   ]
  },
  {
   "cell_type": "code",
   "execution_count": null,
   "metadata": {
    "id": "ZhXcm_wFQMaa"
   },
   "outputs": [],
   "source": [
    "dir = '/content/converted_pdf'\n",
    "#f = open(new_file_dir+'/'+\"ocr_out.txt\", \"a\")\n",
    "for file_name in os.listdir(dir):\n",
    "  #count = 0\n",
    "  img_path = dir+'/'+file_name\n",
    "  results = ocr.ocr(img_path)\n",
    "  # print(results)\n",
    "  #f = open(new_file_dir+'/'+\"ocr_out.txt\", \"a\")\n",
    "  img = cv2.imread(img_path)\n",
    "  scores = []\n",
    "  boxes = []\n",
    "  texts = []\n",
    "  for i in range(len(results[0])):\n",
    "    scores.append(results[0][i][1][1])\n",
    "    boxes.append(results[0][i][0])\n",
    "    texts.append(results[0][i][1][0])\n",
    "  font_path = '/content/PaddleOCR/doc/fonts/latin.ttf'\n",
    "  annotated = draw_ocr(img, boxes, texts, scores, font_path = font_path)\n",
    "  cv2_imshow(annotated)\n",
    "  #count+=1\n",
    "  cv2.imwrite(new_dir+'/'+str(file_name)+'.png',annotated)"
   ]
  },
  {
   "cell_type": "code",
   "execution_count": null,
   "metadata": {
    "id": "7Uc_mGAASf1I"
   },
   "outputs": [],
   "source": [
    "# Renaming the file created\n",
    "temp_dir = '/content/OCR_out'\n",
    "for i in os.listdir(temp_dir):\n",
    "    a = i.replace('.png.png','.png')\n",
    "    new_filename = str(temp_dir)+'/'+a\n",
    "    old_filename = str(temp_dir)+'/'+i\n",
    "    os.rename(old_filename,new_filename)"
   ]
  },
  {
   "cell_type": "markdown",
   "metadata": {
    "id": "ixU3PX2u48oY"
   },
   "source": [
    "#single pdf"
   ]
  },
  {
   "cell_type": "code",
   "execution_count": null,
   "metadata": {
    "id": "zVwLRHQbgIZD"
   },
   "outputs": [],
   "source": [
    "pdf_path = '/content/Payment Challan-Sample.pdf'"
   ]
  },
  {
   "cell_type": "code",
   "execution_count": null,
   "metadata": {
    "id": "SKhcuinahTBc"
   },
   "outputs": [],
   "source": [
    "images = convert_from_path(pdf_path)"
   ]
  },
  {
   "cell_type": "code",
   "execution_count": null,
   "metadata": {
    "id": "PtdAuGLIhcEj"
   },
   "outputs": [],
   "source": [
    "for i in range(len(images)):\n",
    "      # Save pages as images in the pdf\n",
    "      images[i].save('images.png', 'PNG')"
   ]
  },
  {
   "cell_type": "code",
   "execution_count": null,
   "metadata": {
    "id": "mwiNpPpZi-2m"
   },
   "outputs": [],
   "source": [
    "img_path = '/content/images.png'"
   ]
  },
  {
   "cell_type": "code",
   "execution_count": null,
   "metadata": {
    "id": "vPxA6bQplHrm"
   },
   "outputs": [],
   "source": [
    "img = Image.open(img_path)"
   ]
  },
  {
   "cell_type": "code",
   "execution_count": null,
   "metadata": {
    "id": "ka1BGGnolQNy"
   },
   "outputs": [],
   "source": [
    "Rotated_image = img.rotate(270)"
   ]
  },
  {
   "cell_type": "code",
   "execution_count": null,
   "metadata": {
    "id": "2hCmO2n3nE48"
   },
   "outputs": [],
   "source": [
    "Rotated_image.show()"
   ]
  },
  {
   "cell_type": "markdown",
   "metadata": {
    "id": "pWHBqp_HzWk2"
   },
   "source": [
    "ocr"
   ]
  },
  {
   "cell_type": "code",
   "execution_count": null,
   "metadata": {
    "colab": {
     "base_uri": "https://localhost:8080/"
    },
    "id": "ofym2CIzfKtg",
    "outputId": "8a371a9b-cf32-409a-8dc7-513ffa34f0db"
   },
   "outputs": [],
   "source": [
    "# Load the ocr model\n",
    "ocr = PaddleOCR(lang='en')"
   ]
  },
  {
   "cell_type": "code",
   "execution_count": null,
   "metadata": {
    "colab": {
     "base_uri": "https://localhost:8080/"
    },
    "id": "XHcAzzUrfMgT",
    "outputId": "7cf71e89-d257-485d-c78e-f25bba8a0d6f"
   },
   "outputs": [],
   "source": [
    "results = ocr.ocr(img_path)"
   ]
  },
  {
   "cell_type": "code",
   "execution_count": null,
   "metadata": {
    "colab": {
     "base_uri": "https://localhost:8080/"
    },
    "id": "oamOCJVXjQCL",
    "outputId": "342ae5fa-92b7-40eb-9b44-c4be95c87ac2"
   },
   "outputs": [],
   "source": [
    "results"
   ]
  },
  {
   "cell_type": "code",
   "execution_count": null,
   "metadata": {
    "colab": {
     "base_uri": "https://localhost:8080/",
     "height": 518
    },
    "id": "TptSKCSpjMkT",
    "outputId": "a76964a8-abf8-48b6-9e8b-210834ee8038"
   },
   "outputs": [],
   "source": [
    "img = cv2.imread(img_path)\n",
    "scores = []\n",
    "boxes = []\n",
    "texts = []\n",
    "for i in range(len(results[0])):\n",
    "  scores.append(results[0][i][1][1])\n",
    "  boxes.append(results[0][i][0])\n",
    "  texts.append(results[0][i][1][0])\n",
    "font_path = '/content/PaddleOCR/doc/fonts/latin.ttf'\n",
    "annotated = draw_ocr(img, boxes, texts, scores, font_path = font_path)\n",
    "cv2_imshow(annotated)\n",
    "cv2.imwrite('annotated.png',annotated)"
   ]
  },
  {
   "cell_type": "markdown",
   "metadata": {
    "id": "DymGxelnbzpj"
   },
   "source": [
    "# QR Code detection and decoding"
   ]
  },
  {
   "cell_type": "code",
   "execution_count": null,
   "metadata": {
    "colab": {
     "base_uri": "https://localhost:8080/"
    },
    "id": "CeBkaEZHcMFh",
    "outputId": "d221575d-681a-493e-df46-41f9b255a7dc"
   },
   "outputs": [],
   "source": [
    "from google.colab import drive\n",
    "drive.mount('/content/drive')"
   ]
  },
  {
   "cell_type": "code",
   "execution_count": null,
   "metadata": {
    "colab": {
     "base_uri": "https://localhost:8080/"
    },
    "id": "wp7XLBwVb0yk",
    "outputId": "cd85a9fa-a92b-486a-a995-fae06d2642d3"
   },
   "outputs": [],
   "source": [
    "#clone YOLOv5 and \n",
    "!git clone https://github.com/ultralytics/yolov5  # clone repo\n",
    "%cd yolov5\n",
    "%pip install -qr requirements.txt # install dependencies\n",
    "%pip install -q roboflow\n",
    "\n",
    "import torch\n",
    "import os\n",
    "from IPython.display import Image, clear_output  # to display images\n",
    "\n",
    "print(f\"Setup complete. Using torch {torch.__version__} ({torch.cuda.get_device_properties(0).name if torch.cuda.is_available() else 'CPU'})\")"
   ]
  },
  {
   "cell_type": "code",
   "execution_count": null,
   "metadata": {
    "colab": {
     "base_uri": "https://localhost:8080/"
    },
    "id": "D_iuoBmSdzsj",
    "outputId": "c99dc0ca-f0d0-4973-91e6-451edbfe5e19"
   },
   "outputs": [],
   "source": [
    "!python detect.py --weights /content/drive/MyDrive/qr_pt/best.pt --img 416 --conf 0.4 --source /content/converted_pdf --save-crop "
   ]
  },
  {
   "cell_type": "code",
   "execution_count": null,
   "metadata": {
    "colab": {
     "base_uri": "https://localhost:8080/"
    },
    "id": "VpjMXKJjcXP6",
    "outputId": "df4957b7-b031-428d-d484-235565d86434"
   },
   "outputs": [],
   "source": [
    "!pip install pyzbar"
   ]
  },
  {
   "cell_type": "code",
   "execution_count": null,
   "metadata": {
    "colab": {
     "base_uri": "https://localhost:8080/"
    },
    "id": "YTY4aPhHelvC",
    "outputId": "364a0bca-5787-42a9-de54-34acbfc37eb9"
   },
   "outputs": [],
   "source": [
    "!apt install libzbar0"
   ]
  },
  {
   "cell_type": "code",
   "execution_count": null,
   "metadata": {
    "id": "hzJoS_r6eoPB"
   },
   "outputs": [],
   "source": [
    "from pyzbar.pyzbar import decode"
   ]
  },
  {
   "cell_type": "code",
   "execution_count": null,
   "metadata": {
    "id": "x3c9ZODib77m"
   },
   "outputs": [],
   "source": [
    "dir = '/content/yolov5/runs/detect/exp/crops/qr_code'\n",
    "for index,filename in enumerate(os.listdir(dir)): \n",
    "    #f = open(new_file_dir+'/'+\"qr_code.txt\", \"a\")\n",
    "    img = cv2.imread(str(dir)+\"/\"+filename)\n",
    "    #cv2_imshow(img)\n",
    "    #detector = cv2.QRCodeDetector()\n",
    "    decoded_qr = decode(img)\n",
    "    #print(decoded_qr[0][0])\n",
    "    #print(filename)\n",
    "    #print(decoded_qr)\n",
    "   # if decoded_qr == []:\n",
    "    #   print(\"yes\")\n",
    "    # else:\n",
    "    #   print(\"No\")\n",
    "    #print(\"Data:\",decoded_qr[0][0])\n",
    "    #print(\"Bounding Box:\",decoded_qr[0][2])\n",
    "    # if decoded_qr == []:\n",
    "    #   f.write(str(filename))\n",
    "    #   f.write(' ')\n",
    "    #   f.write('There is no barcode')\n",
    "    # else:\n",
    "    #   f.write(str(filename))\n",
    "    #   f.write(' ')\n",
    "    #   f.write('Barcode detected')\n",
    "    #   f.write(' ')\n",
    "    #   f.write(\"{Data}:\"+str(decoded_qr[0][0]))\n",
    "    # f.write('\\n')\n",
    "    # f.close()\n",
    "    #f.write(\"{Data}:\"+str(decoded_qr[0][0]))\n",
    "    #f.write(\"{bbox}:\"+str(decoded_qr[0][2]))\n",
    "    # f.write(\"{straight_qrcode}:\"+str(straight_qrcode))\n",
    "    if decoded_qr == []:\n",
    "      pass\n",
    "    else:\n",
    "      d = decoded_qr[0][2]\n",
    "      image = cv2.rectangle(img, (d.left, d.top),\n",
    "                        (d.left + d.width, d.top + d.height), (255, 0, 0), 2)\n",
    "      #cv2.imwrite(new_dir+'/'+filename+'.png',image)\n",
    "      cv2_imshow(image)\n",
    "      print(\"Decoded link\",decoded_qr[0][0])\n",
    "      print(\"Bounding box\",decoded_qr[0][3])"
   ]
  }
 ],
 "metadata": {
  "colab": {
   "collapsed_sections": [
    "ixU3PX2u48oY"
   ],
   "provenance": []
  },
  "kernelspec": {
   "display_name": "local-venv",
   "language": "python",
   "name": "local-venv"
  },
  "language_info": {
   "codemirror_mode": {
    "name": "ipython",
    "version": 3
   },
   "file_extension": ".py",
   "mimetype": "text/x-python",
   "name": "python",
   "nbconvert_exporter": "python",
   "pygments_lexer": "ipython3",
   "version": "3.8.0"
  }
 },
 "nbformat": 4,
 "nbformat_minor": 1
}
